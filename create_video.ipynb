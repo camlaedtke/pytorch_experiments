{
 "cells": [
  {
   "cell_type": "code",
   "execution_count": null,
   "id": "2af8c366",
   "metadata": {},
   "outputs": [],
   "source": [
    "import os\n",
    "import ffmpeg"
   ]
  },
  {
   "cell_type": "code",
   "execution_count": null,
   "id": "e33cd482",
   "metadata": {},
   "outputs": [],
   "source": [
    "video_dir = \"outputs/video_frames\"\n",
    "img_pattern = '*_leftImg8bit.png'\n",
    "PATTERN = os.path.join(video_dir,  img_pattern)\n",
    "VIDEO_PATH = \"outputs/stuttgart_video.mp4\""
   ]
  },
  {
   "cell_type": "code",
   "execution_count": null,
   "id": "084c7557",
   "metadata": {},
   "outputs": [],
   "source": [
    "ffmpeg.input(\n",
    "    PATTERN, \n",
    "    pattern_type='glob', \n",
    "    framerate=15\n",
    ").output(VIDEO_PATH, pix_fmt='yuv420p', vcodec='libx264').run()"
   ]
  }
 ],
 "metadata": {
  "kernelspec": {
   "display_name": "Python 3 (ipykernel)",
   "language": "python",
   "name": "python3"
  },
  "language_info": {
   "codemirror_mode": {
    "name": "ipython",
    "version": 3
   },
   "file_extension": ".py",
   "mimetype": "text/x-python",
   "name": "python",
   "nbconvert_exporter": "python",
   "pygments_lexer": "ipython3",
   "version": "3.8.10"
  }
 },
 "nbformat": 4,
 "nbformat_minor": 5
}
